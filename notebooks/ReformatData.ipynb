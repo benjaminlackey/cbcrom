{
 "cells": [
  {
   "cell_type": "code",
   "execution_count": 1,
   "metadata": {
    "collapsed": false,
    "deletable": true,
    "editable": true
   },
   "outputs": [
    {
     "name": "stdout",
     "output_type": "stream",
     "text": [
      "Populating the interactive namespace from numpy and matplotlib\n"
     ]
    }
   ],
   "source": [
    "%pylab inline\n",
    "\n",
    "import numpy as np\n",
    "import matplotlib.pyplot as plt\n",
    "from matplotlib.ticker import Locator"
   ]
  },
  {
   "cell_type": "code",
   "execution_count": 2,
   "metadata": {
    "collapsed": false,
    "deletable": true,
    "editable": true
   },
   "outputs": [
    {
     "name": "stdout",
     "output_type": "stream",
     "text": [
      "\n"
     ]
    },
    {
     "data": {
      "text/plain": [
       "<module 'chebyshev' from '../cbcrom/chebyshev.pyc'>"
      ]
     },
     "execution_count": 2,
     "metadata": {},
     "output_type": "execute_result"
    }
   ],
   "source": [
    "sys.path.insert(0, '../cbcrom')\n",
    "\n",
    "import timedomainwaveform as tdwave\n",
    "import timedomainrom as tdrom\n",
    "import eobtrainingset as eob\n",
    "import greedy\n",
    "import empiricalinterpolation as eim\n",
    "import diagnostics as diagnostics\n",
    "import chebyshev as cheb\n",
    "\n",
    "import imp\n",
    "imp.reload(tdwave)\n",
    "imp.reload(tdrom)\n",
    "imp.reload(eob)\n",
    "imp.reload(greedy)\n",
    "imp.reload(eim)\n",
    "imp.reload(diagnostics)\n",
    "imp.reload(cheb)"
   ]
  },
  {
   "cell_type": "code",
   "execution_count": 9,
   "metadata": {
    "collapsed": false,
    "deletable": true,
    "editable": true
   },
   "outputs": [],
   "source": [
    "memb_size=2**26-1\n",
    "\n",
    "#filename = '../data/Bamp_%d.hdf5'\n",
    "filename = '../data/Bamp_cheb_16_%d.hdf5'\n",
    "Bamp_j = tdwave.load_hdf5_time_domain_waveform_set(filename, memb_size=memb_size)\n",
    "\n",
    "#filename = '../data/Bphase_%d.hdf5'\n",
    "filename = '../data/Bphase_cheb_16_%d.hdf5'\n",
    "Bphase_j = tdwave.load_hdf5_time_domain_waveform_set(filename, memb_size=memb_size)"
   ]
  },
  {
   "cell_type": "code",
   "execution_count": 10,
   "metadata": {
    "collapsed": true,
    "deletable": true,
    "editable": true
   },
   "outputs": [],
   "source": [
    "Bamp_list = []\n",
    "for j in range(Bamp_j.get_len()):\n",
    "    h = Bamp_j.get_waveform_data(j)\n",
    "    Bamp_list.append(h.amp)\n",
    "Bamp_array = np.array(Bamp_list)\n",
    "np.savetxt('../data/Bamp_matrix.txt', Bamp_array)\n",
    "\n",
    "Bphase_list = []\n",
    "for j in range(Bphase_j.get_len()):\n",
    "    h = Bphase_j.get_waveform_data(j)\n",
    "    Bphase_list.append(h.phase)\n",
    "Bphase_array = np.array(Bphase_list)\n",
    "np.savetxt('../data/Bphase_matrix.txt', Bphase_array)\n",
    "\n",
    "np.savetxt('../data/times.txt', h.time)"
   ]
  },
  {
   "cell_type": "code",
   "execution_count": 11,
   "metadata": {
    "collapsed": false,
    "deletable": true,
    "editable": true
   },
   "outputs": [
    {
     "name": "stdout",
     "output_type": "stream",
     "text": [
      "(12, 73624) (7, 73624)\n",
      "[ -5.88705527e-03  -5.88701414e-03  -5.88700467e-03 ...,   2.77555756e-16\n",
      "  -1.68532767e-02   2.77555756e-17]\n",
      "[  0.00000000e+00  -4.10456214e-06  -8.21682228e-06 ...,   5.81928755e-01\n",
      "   7.61187813e-01   1.00000000e+00]\n",
      "[ -2.00737044e+08  -2.00731988e+08  -2.00726931e+08 ...,   7.40319208e+00\n",
      "   7.50319240e+00   7.60319272e+00]\n",
      "(73624,)\n"
     ]
    }
   ],
   "source": [
    "print Bamp_array.shape, Bphase_array.shape\n",
    "print Bamp_array[0]\n",
    "print Bphase_array[0]\n",
    "print h.time\n",
    "print h.time.shape"
   ]
  },
  {
   "cell_type": "code",
   "execution_count": 12,
   "metadata": {
    "collapsed": false,
    "deletable": true,
    "editable": true
   },
   "outputs": [],
   "source": [
    "#ampcoeff_filename = '../data/amp_coeffs.hdf5'\n",
    "#phasecoeff_filename = '../data/phase_coeffs.hdf5'\n",
    "\n",
    "ampcoeff_filename = '../data/amp_coeffs_cheb_16.hdf5'\n",
    "phasecoeff_filename = '../data/phase_coeffs_cheb_16.hdf5'\n",
    "\n",
    "# Extract lists of coefficients for the interpolating functions(params)\n",
    "amp_coeff_list, params_min, params_max = cheb.load_chebyshev_coefficients_list(ampcoeff_filename)\n",
    "phase_coeff_list, params_min, params_max = cheb.load_chebyshev_coefficients_list(phasecoeff_filename)"
   ]
  },
  {
   "cell_type": "code",
   "execution_count": 13,
   "metadata": {
    "collapsed": false,
    "deletable": true,
    "editable": true
   },
   "outputs": [
    {
     "name": "stdout",
     "output_type": "stream",
     "text": [
      "(49152,)\n",
      "(28672,)\n"
     ]
    }
   ],
   "source": [
    "amp_coeff_flat = np.array(amp_coeff_list).flatten()\n",
    "print amp_coeff_flat.shape\n",
    "np.savetxt('../data/Amp_ciall.txt', amp_coeff_flat)\n",
    "\n",
    "phase_coeff_flat = np.array(phase_coeff_list).flatten()\n",
    "print phase_coeff_flat.shape\n",
    "np.savetxt('../data/Phase_ciall.txt', phase_coeff_flat)"
   ]
  },
  {
   "cell_type": "code",
   "execution_count": 14,
   "metadata": {
    "collapsed": false,
    "deletable": true,
    "editable": true
   },
   "outputs": [
    {
     "data": {
      "text/plain": [
       "(49152, 28672)"
      ]
     },
     "execution_count": 14,
     "metadata": {},
     "output_type": "execute_result"
    }
   ],
   "source": [
    "12*16**3, 7*16**3"
   ]
  },
  {
   "cell_type": "code",
   "execution_count": null,
   "metadata": {
    "collapsed": true,
    "deletable": true,
    "editable": true
   },
   "outputs": [],
   "source": []
  }
 ],
 "metadata": {
  "kernelspec": {
   "display_name": "Python 2",
   "language": "python",
   "name": "python2"
  },
  "language_info": {
   "codemirror_mode": {
    "name": "ipython",
    "version": 2
   },
   "file_extension": ".py",
   "mimetype": "text/x-python",
   "name": "python",
   "nbconvert_exporter": "python",
   "pygments_lexer": "ipython2",
   "version": "2.7.12"
  }
 },
 "nbformat": 4,
 "nbformat_minor": 0
}
