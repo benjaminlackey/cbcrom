{
 "cells": [
  {
   "cell_type": "code",
   "execution_count": 1,
   "metadata": {
    "collapsed": false
   },
   "outputs": [
    {
     "name": "stdout",
     "output_type": "stream",
     "text": [
      "Populating the interactive namespace from numpy and matplotlib\n"
     ]
    }
   ],
   "source": [
    "%pylab inline\n",
    "\n",
    "import numpy as np\n",
    "import matplotlib.pyplot as plt\n",
    "from matplotlib.ticker import Locator"
   ]
  },
  {
   "cell_type": "code",
   "execution_count": 2,
   "metadata": {
    "collapsed": false
   },
   "outputs": [
    {
     "name": "stdout",
     "output_type": "stream",
     "text": [
      "\n"
     ]
    },
    {
     "data": {
      "text/plain": [
       "<module 'chebyshev' from '../cbcrom/chebyshev.pyc'>"
      ]
     },
     "execution_count": 2,
     "metadata": {},
     "output_type": "execute_result"
    }
   ],
   "source": [
    "sys.path.insert(0, '../cbcrom')\n",
    "\n",
    "import timedomainwaveform as tdwave\n",
    "import timedomainrom as tdrom\n",
    "import eobtrainingset as eob\n",
    "import greedy\n",
    "import empiricalinterpolation as eim\n",
    "import diagnostics as diagnostics\n",
    "import chebyshev as cheb\n",
    "\n",
    "import imp\n",
    "imp.reload(tdwave)\n",
    "imp.reload(tdrom)\n",
    "imp.reload(eob)\n",
    "imp.reload(greedy)\n",
    "imp.reload(eim)\n",
    "imp.reload(diagnostics)\n",
    "imp.reload(cheb)"
   ]
  },
  {
   "cell_type": "code",
   "execution_count": 3,
   "metadata": {
    "collapsed": false
   },
   "outputs": [],
   "source": [
    "memb_size=2**26-1\n",
    "\n",
    "filename = '../data/Bamp_%d.hdf5'\n",
    "Bamp_j = tdwave.load_hdf5_time_domain_waveform_set(filename, memb_size=memb_size)\n",
    "\n",
    "filename = '../data/Bphase_%d.hdf5'\n",
    "Bphase_j = tdwave.load_hdf5_time_domain_waveform_set(filename, memb_size=memb_size)"
   ]
  },
  {
   "cell_type": "code",
   "execution_count": 5,
   "metadata": {
    "collapsed": true
   },
   "outputs": [],
   "source": [
    "Bamp_list = []\n",
    "for j in range(Bamp_j.get_len()):\n",
    "    h = Bamp_j.get_waveform_data(j)\n",
    "    Bamp_list.append(h.amp)\n",
    "Bamp_array = np.array(Bamp_list)\n",
    "np.savetxt('Bamp_matrix.txt', Bamp_array)\n",
    "\n",
    "Bphase_list = []\n",
    "for j in range(Bphase_j.get_len()):\n",
    "    h = Bphase_j.get_waveform_data(j)\n",
    "    Bphase_list.append(h.phase)\n",
    "Bphase_array = np.array(Bphase_list)\n",
    "np.savetxt('Bphase_matrix.txt', Bphase_array)\n",
    "\n",
    "np.savetxt('times.txt', h.time)"
   ]
  },
  {
   "cell_type": "code",
   "execution_count": 7,
   "metadata": {
    "collapsed": false
   },
   "outputs": [
    {
     "name": "stdout",
     "output_type": "stream",
     "text": [
      "(21, 69072) (7, 69072)\n",
      "[ -3.24368155e-02  -3.24441353e-02  -3.24543695e-02 ...,   3.46944695e-16\n",
      "  -3.64291930e-17   4.99600361e-16]\n",
      "[  0.00000000e+00  -5.01148583e-06  -9.99767563e-06 ...,   5.75309361e-01\n",
      "   7.57229590e-01   1.00000000e+00]\n",
      "[ -1.78217203e+08  -1.78212368e+08  -1.78207533e+08 ...,   7.41939775e+00\n",
      "   7.51939968e+00   7.61940160e+00]\n",
      "(69072,)\n"
     ]
    }
   ],
   "source": [
    "print Bamp_array.shape, Bphase_array.shape\n",
    "print Bamp_array[0]\n",
    "print Bphase_array[0]\n",
    "print h.time\n",
    "print h.time.shape"
   ]
  },
  {
   "cell_type": "code",
   "execution_count": 9,
   "metadata": {
    "collapsed": false
   },
   "outputs": [],
   "source": [
    "ampcoeff_filename = '../data/amp_coeffs.hdf5'\n",
    "phasecoeff_filename = '../data/phase_coeffs.hdf5'\n",
    "\n",
    "# Extract lists of coefficients for the interpolating functions(params)\n",
    "amp_coeff_list, params_min, params_max = cheb.load_chebyshev_coefficients_list(ampcoeff_filename)\n",
    "phase_coeff_list, params_min, params_max = cheb.load_chebyshev_coefficients_list(phasecoeff_filename)"
   ]
  },
  {
   "cell_type": "code",
   "execution_count": 10,
   "metadata": {
    "collapsed": false
   },
   "outputs": [
    {
     "name": "stdout",
     "output_type": "stream",
     "text": [
      "(86016,)\n",
      "(28672,)\n"
     ]
    }
   ],
   "source": [
    "amp_coeff_flat = np.array(amp_coeff_list).flatten()\n",
    "print amp_coeff_flat.shape\n",
    "np.savetxt('Amp_ciall.txt', amp_coeff_flat)\n",
    "\n",
    "phase_coeff_flat = np.array(phase_coeff_list).flatten()\n",
    "print phase_coeff_flat.shape\n",
    "np.savetxt('Phase_ciall.txt', phase_coeff_flat)"
   ]
  },
  {
   "cell_type": "code",
   "execution_count": null,
   "metadata": {
    "collapsed": true
   },
   "outputs": [],
   "source": []
  }
 ],
 "metadata": {
  "kernelspec": {
   "display_name": "Python 2",
   "language": "python",
   "name": "python2"
  },
  "language_info": {
   "codemirror_mode": {
    "name": "ipython",
    "version": 2
   },
   "file_extension": ".py",
   "mimetype": "text/x-python",
   "name": "python",
   "nbconvert_exporter": "python",
   "pygments_lexer": "ipython2",
   "version": "2.7.10"
  }
 },
 "nbformat": 4,
 "nbformat_minor": 0
}
