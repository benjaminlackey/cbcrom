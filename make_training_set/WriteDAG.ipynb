{
 "cells": [
  {
   "cell_type": "code",
   "execution_count": 1,
   "metadata": {
    "collapsed": false
   },
   "outputs": [
    {
     "name": "stdout",
     "output_type": "stream",
     "text": [
      "Populating the interactive namespace from numpy and matplotlib\n"
     ]
    }
   ],
   "source": [
    "%pylab inline\n",
    "\n",
    "import matplotlib.pyplot as plt\n",
    "import numpy as np"
   ]
  },
  {
   "cell_type": "code",
   "execution_count": 6,
   "metadata": {
    "collapsed": true
   },
   "outputs": [],
   "source": [
    "import glob"
   ]
  },
  {
   "cell_type": "code",
   "execution_count": 2,
   "metadata": {
    "collapsed": true
   },
   "outputs": [],
   "source": [
    "def write_dag_job(n, La, Lb, nu, q, ka2, kb2, ka3, kb3, ka4, kb4):\n",
    "    \"\"\"\n",
    "    Parameters\n",
    "    ----------\n",
    "    n : int\n",
    "        Job number starting at 1 (not 0)\n",
    "        \n",
    "    Returns\n",
    "    -------\n",
    "    str : String in dagman file to submit a job to condor.\n",
    "    \"\"\"\n",
    "    \n",
    "    string = 'JOB '+str(n)+' eobrun2.sub\\n'+\\\n",
    "    'VARS '+str(n)+' La=\"'+str(La)+'\"\\n'+\\\n",
    "    'VARS '+str(n)+' Lb=\"'+str(Lb)+'\"\\n'+\\\n",
    "    'VARS '+str(n)+' nu=\"'+str(nu)+'\"\\n'+\\\n",
    "    'VARS '+str(n)+' q=\"'+str(q)+'\"\\n'+\\\n",
    "    'VARS '+str(n)+' ka2=\"'+str(ka2)+'\"\\n'+\\\n",
    "    'VARS '+str(n)+' kb2=\"'+str(kb2)+'\"\\n'+\\\n",
    "    'VARS '+str(n)+' ka3=\"'+str(ka3)+'\"\\n'+\\\n",
    "    'VARS '+str(n)+' kb3=\"'+str(kb3)+'\"\\n'+\\\n",
    "    'VARS '+str(n)+' ka4=\"'+str(ka4)+'\"\\n'+\\\n",
    "    'VARS '+str(n)+' kb4=\"'+str(kb4)+'\"'\n",
    "    \n",
    "    return string\n",
    "\n",
    "\n",
    "\n",
    "def write_dag_file(paramfile, dagfile):\n",
    "    \"\"\"Submit a large set of jobs to condor by creating a dag file.\n",
    "    \"\"\"\n",
    "    params = np.loadtxt(paramfile)\n",
    "    Nparams = len(params)\n",
    "    \n",
    "    # Write the individual DAG job strings\n",
    "    runs = []\n",
    "    for n in range(Nparams):\n",
    "        #for n in range(1, 10):\n",
    "        La, Lb, nu, q, ka2, kb2, ka3, kb3, ka4, kb4 = params[n]\n",
    "        \n",
    "        string = write_dag_job(n+1, La, Lb, nu, q, ka2, kb2, ka3, kb3, ka4, kb4)\n",
    "        runs.append(string)\n",
    "\n",
    "    dag_string = '\\n'.join(runs)\n",
    "    \n",
    "    # Write to file\n",
    "    f = open(dagfile,'w')\n",
    "    f.write(dag_string)\n",
    "    f.close()"
   ]
  },
  {
   "cell_type": "code",
   "execution_count": 3,
   "metadata": {
    "collapsed": false
   },
   "outputs": [],
   "source": [
    "# paramfile = 'parspace_smallq_cheb_16.out'\n",
    "# dagfile = 'parspace_smallq_cheb_16.dag'\n",
    "# write_dag_file(paramfile, dagfile)"
   ]
  },
  {
   "cell_type": "code",
   "execution_count": 3,
   "metadata": {
    "collapsed": true
   },
   "outputs": [],
   "source": [
    "# paramfile = 'parspace_rand_500.out'\n",
    "# dagfile = 'parspace_rand_500.dag'\n",
    "# write_dag_file(paramfile, dagfile)"
   ]
  },
  {
   "cell_type": "code",
   "execution_count": 4,
   "metadata": {
    "collapsed": true
   },
   "outputs": [],
   "source": [
    "paramfile = 'parspace_rand_10000.out'\n",
    "dagfile = 'parspace_rand_10000.dag'\n",
    "write_dag_file(paramfile, dagfile)"
   ]
  },
  {
   "cell_type": "code",
   "execution_count": 3,
   "metadata": {
    "collapsed": true
   },
   "outputs": [],
   "source": [
    "def write_rescue_dag_file(paramfile, dagfile, nfailed):\n",
    "    \"\"\"Submit a large set of jobs to condor by creating a dag file.\n",
    "    \"\"\"\n",
    "    params = np.loadtxt(paramfile)\n",
    "    Nparams = len(params)\n",
    "    \n",
    "    # Write the individual DAG job strings\n",
    "    runs = []\n",
    "    for n in nfailed:\n",
    "        #for n in range(1, 10):\n",
    "        La, Lb, nu, q, ka2, kb2, ka3, kb3, ka4, kb4 = params[n]\n",
    "        \n",
    "        string = write_dag_job(n+1, La, Lb, nu, q, ka2, kb2, ka3, kb3, ka4, kb4)\n",
    "        runs.append(string)\n",
    "\n",
    "    dag_string = '\\n'.join(runs)\n",
    "    \n",
    "    # Write to file\n",
    "    f = open(dagfile,'w')\n",
    "    f.write(dag_string)\n",
    "    f.close()"
   ]
  },
  {
   "cell_type": "markdown",
   "metadata": {
    "collapsed": true
   },
   "source": [
    "# Find jobs that failed"
   ]
  },
  {
   "cell_type": "code",
   "execution_count": 14,
   "metadata": {
    "collapsed": true
   },
   "outputs": [],
   "source": [
    "# training_set_dir = '/home/bdlackey/cbcrom/training_set_cheb_16'\n",
    "# paramfile = 'parspace_smallq_cheb_16.out'\n",
    "\n",
    "training_set_dir = '/home/bdlackey/cbcrom/training_set_test'\n",
    "paramfile = 'parspace_rand_10000.out'"
   ]
  },
  {
   "cell_type": "code",
   "execution_count": 15,
   "metadata": {
    "collapsed": false
   },
   "outputs": [
    {
     "name": "stdout",
     "output_type": "stream",
     "text": [
      "9947\n"
     ]
    }
   ],
   "source": [
    "files_succeeded = glob.glob(training_set_dir+'/*.gz')\n",
    "Nsucceeded = len(files_succeeded)\n",
    "print Nsucceeded"
   ]
  },
  {
   "cell_type": "code",
   "execution_count": 16,
   "metadata": {
    "collapsed": true
   },
   "outputs": [],
   "source": [
    "params_succeeded = []\n",
    "for filename in files_succeeded:\n",
    "    params = map(float, filename.split('/')[-1].split('.')[0].replace('p', '.').split('_')[-3:])\n",
    "    params_succeeded.append(params)"
   ]
  },
  {
   "cell_type": "code",
   "execution_count": 17,
   "metadata": {
    "collapsed": false
   },
   "outputs": [],
   "source": [
    "# Find the files that failed\n",
    "params = np.loadtxt(paramfile)\n",
    "Nparams = len(params)"
   ]
  },
  {
   "cell_type": "code",
   "execution_count": 18,
   "metadata": {
    "collapsed": true
   },
   "outputs": [],
   "source": [
    "def job_failed(n, params, params_succeeded, tol=1.0e-3):\n",
    "    \"\"\"Returns True of the job failed.\n",
    "    \"\"\"\n",
    "    La, Lb, nu, q, ka2, kb2, ka3, kb3, ka4, kb4 = params[n]\n",
    "    \n",
    "    # Cycle through the list of succeeded jobs\n",
    "    for m in range(len(params_succeeded)):\n",
    "        q_suc, La_suc, Lb_suc = params_succeeded[m]\n",
    "        if np.abs(q_suc/q-1.0)<tol and np.abs(La_suc/La-1.0)<tol and np.abs(Lb_suc/Lb-1.0)<tol:\n",
    "            # params is in list of jobs that succeeded\n",
    "            return False\n",
    "    \n",
    "    # params is not in list of jobs that succeeded\n",
    "    print q, La, Lb\n",
    "    return True"
   ]
  },
  {
   "cell_type": "code",
   "execution_count": 19,
   "metadata": {
    "collapsed": false
   },
   "outputs": [
    {
     "name": "stdout",
     "output_type": "stream",
     "text": [
      "1.52183729296 514.66716689 2753.72729579\n",
      "1.00777934106 689.105649281 2431.63656819\n",
      "1.07708526466 836.476358756 3172.77044709\n",
      "1.38462365419 1728.72188689 1899.85098488\n",
      "1.21997624241 683.175619457 1054.2379711\n",
      "1.48282464183 900.639625159 3397.50106154\n",
      "1.60578042918 3184.45804582 890.45475998\n",
      "1.02557563252 650.310188722 859.875869535\n",
      "1.87463137559 788.934768409 198.465092767\n",
      "1.12612622115 2861.26425351 4525.85424228\n",
      "1.04724050537 502.128382564 2069.16324053\n",
      "1.67220069141 229.41688193 363.173747075\n",
      "1.66464905544 3056.02567104 1367.27078038\n",
      "1.20144896089 2274.70602516 57.7255604585\n",
      "1.17671524659 1503.4175258 3794.34887314\n",
      "1.45178443819 3585.43669367 687.897682093\n",
      "1.18378168515 2012.59055086 3524.59761547\n",
      "1.34438750316 1370.54045281 495.160404175\n",
      "1.10956140904 4766.26938054 1171.72937893\n",
      "1.40284406003 2957.97844604 2732.72234309\n",
      "1.31011411866 4362.20986368 4600.62876904\n",
      "1.96509315372 2198.65854039 3112.31079786\n",
      "1.14962665992 3251.9101343 2508.04695572\n",
      "1.34653502631 277.877747989 3756.07917395\n",
      "1.24470581135 443.774042257 4751.09490217\n",
      "1.92372494407 3880.68343304 1257.27555092\n",
      "1.26626378663 2016.76704583 858.998730481\n",
      "1.20678303976 3961.02468441 3704.83062342\n",
      "1.5306201107 1362.41991259 1723.51698115\n",
      "1.44589261021 2235.31540624 4560.43945337\n",
      "1.2403385507 3598.01879227 3997.67684028\n",
      "1.82663393203 1236.02527973 2202.25778739\n",
      "1.45143156672 3578.10784599 2287.70561849\n",
      "1.03255569738 3002.59192997 2583.62114146\n",
      "1.11747741747 1870.18539646 436.922024432\n",
      "1.557506118 2917.11345043 2845.3089075\n",
      "1.3095046811 469.522806267 3882.86497713\n",
      "1.46807246631 2115.8793602 2272.13911735\n",
      "1.15714364731 4696.57493729 3592.53074095\n",
      "1.07827961316 215.373679085 3832.30903162\n",
      "1.41180281488 2211.31147334 3499.71720464\n",
      "1.49935465065 3706.73521105 3445.91996184\n",
      "1.47837673807 2976.85912091 3481.34591487\n",
      "1.37022954484 201.930122651 3338.54786048\n",
      "1.87468236214 3181.23466541 1380.93153579\n",
      "1.07237768473 4083.90729274 4206.80333617\n",
      "1.09002353201 4035.36996742 3265.21246834\n",
      "1.5577250085 2023.5147141 4166.0100152\n",
      "1.34675695721 1362.23298821 2844.58292671\n",
      "1.37161748019 1730.56497737 296.413374821\n",
      "1.01022220119 4330.79374562 3260.5608867\n",
      "1.47189526067 4089.62410574 4357.60259121\n",
      "1.66966334328 2050.94344203 124.798556413\n"
     ]
    }
   ],
   "source": [
    "failed = [n for n in range(Nparams) if job_failed(n, params, params_succeeded)]\n",
    "Nfailed = len(failed)"
   ]
  },
  {
   "cell_type": "code",
   "execution_count": 20,
   "metadata": {
    "collapsed": false
   },
   "outputs": [
    {
     "name": "stdout",
     "output_type": "stream",
     "text": [
      "[60, 64, 78, 87, 97, 444, 2515, 2552, 4322, 4996, 5270, 5375, 5728, 6056, 6583, 7020, 7021, 7436, 7748, 7833, 7974, 8246, 8303, 8412, 8761, 8797, 9276, 9291, 9575, 9597, 9608, 9664, 9696, 9717, 9734, 9737, 9739, 9741, 9770, 9772, 9773, 9775, 9783, 9786, 9787, 9790, 9807, 9808, 9811, 9817, 9821, 9829, 9832]\n",
      "9947 53 10000\n"
     ]
    }
   ],
   "source": [
    "print failed\n",
    "#print np.array([params[n] for n in failed])\n",
    "print Nsucceeded, Nfailed, Nsucceeded+Nfailed"
   ]
  },
  {
   "cell_type": "code",
   "execution_count": 21,
   "metadata": {
    "collapsed": true
   },
   "outputs": [],
   "source": [
    "dagfile = 'parspace_rand_10000_retry.dag'\n",
    "write_rescue_dag_file(paramfile, dagfile, failed)"
   ]
  },
  {
   "cell_type": "code",
   "execution_count": null,
   "metadata": {
    "collapsed": true
   },
   "outputs": [],
   "source": []
  },
  {
   "cell_type": "code",
   "execution_count": null,
   "metadata": {
    "collapsed": true
   },
   "outputs": [],
   "source": []
  }
 ],
 "metadata": {
  "kernelspec": {
   "display_name": "Python 2",
   "language": "python",
   "name": "python2"
  },
  "language_info": {
   "codemirror_mode": {
    "name": "ipython",
    "version": 2
   },
   "file_extension": ".py",
   "mimetype": "text/x-python",
   "name": "python",
   "nbconvert_exporter": "python",
   "pygments_lexer": "ipython2",
   "version": "2.7.10"
  }
 },
 "nbformat": 4,
 "nbformat_minor": 0
}
